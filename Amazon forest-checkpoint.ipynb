{
 "cells": [
  {
   "cell_type": "markdown",
   "id": "eb6ed4dd",
   "metadata": {},
   "source": [
    "Understanding Amazon Forest"
   ]
  },
  {
   "cell_type": "code",
   "execution_count": null,
   "id": "37ffb1b6",
   "metadata": {},
   "outputs": [],
   "source": [
    "import numpy as np\n",
    "import pandas as pd\n",
    "import tensorflow as tf\n",
    "import matplotlib.pyplot as plt\n",
    "import keras\n",
    "from keras.models import Sequential\n",
    "from keras.layers import Dense, Dropout, Flatten\n",
    "from keras.layers import Conv2D, MaxPooling2D\n",
    "from keras.preprocessing import image\n",
    "from keras.layers import BatchNormalization\n",
    "from sklearn.model_selection import train_test_split\n",
    "from tqdm import tqdm"
   ]
  },
  {
   "cell_type": "code",
   "execution_count": null,
   "id": "d225f56f",
   "metadata": {},
   "outputs": [],
   "source": [
    "#load csv file\n",
    "df_train = pd.read_csv(\"C:/Users/D-IKE/Desktop/HamoyeCODES/StageD/archive/train_classes.csv\")\n",
    "df_train.head()\n"
   ]
  },
  {
   "cell_type": "code",
   "execution_count": null,
   "id": "7c1541d6",
   "metadata": {},
   "outputs": [],
   "source": [
    "tag_set = set()\n",
    "def add_tag(tags):\n",
    "    for tag in tags.split():\n",
    "        tag_set.add(tag)\n",
    "        \n",
    "df_train['tags'].apply(add_tag)\n",
    "tag_list = list(tag_set)\n",
    "print(tag_list)"
   ]
  },
  {
   "cell_type": "code",
   "execution_count": null,
   "id": "44ba16d9",
   "metadata": {},
   "outputs": [],
   "source": [
    "for tag in tag_list:\n",
    "  df_train[tag] =  df_train['tags'].apply(lambda x: 1 if tag in x.split() else 0)\n",
    "df_train.head()"
   ]
  },
  {
   "cell_type": "code",
   "execution_count": null,
   "id": "70f76096",
   "metadata": {},
   "outputs": [],
   "source": [
    "train_df = df_train.iloc[:6000]\n",
    "train_df.shape"
   ]
  },
  {
   "cell_type": "code",
   "execution_count": null,
   "id": "54cc3a63",
   "metadata": {},
   "outputs": [],
   "source": [
    "image_directory = '../input/train-jpg/train-jpg/'"
   ]
  },
  {
   "cell_type": "code",
   "execution_count": null,
   "id": "caf18b15",
   "metadata": {},
   "outputs": [],
   "source": [
    "from keras.preprocessing import image\n",
    "from tqdm import tqdm\n",
    "size = 200\n",
    "\n",
    "x_dataset = []\n",
    "\n",
    "for i in tqdm(range(train_df.shape[0])):\n",
    "    img = image.load_img(image_directory + train_df['image_name'][i]+'.jpg', target_size=(size,size,3))\n",
    "    img = image.img_to_array(img)\n",
    "    img = img/255.0\n",
    "    x_dataset.append(img)\n",
    "\n",
    "x_train = np.array(x_dataset)"
   ]
  },
  {
   "cell_type": "code",
   "execution_count": null,
   "id": "baa84d6c",
   "metadata": {},
   "outputs": [],
   "source": [
    "del df_train\n",
    "\n",
    "import gc\n",
    "gc.collect()"
   ]
  },
  {
   "cell_type": "code",
   "execution_count": null,
   "id": "aad333f8",
   "metadata": {},
   "outputs": [],
   "source": [
    "import matplotlib.pyplot as plt\n",
    "x_train = np.array(x_dataset)\n",
    "x_train.shape\n",
    "x = x_train\n",
    "plt.imshow(x_train[24])"
   ]
  },
  {
   "cell_type": "code",
   "execution_count": null,
   "id": "961d0130",
   "metadata": {},
   "outputs": [],
   "source": []
  },
  {
   "cell_type": "code",
   "execution_count": null,
   "id": "4f7d831e",
   "metadata": {},
   "outputs": [],
   "source": [
    "y = np.array(train_df.drop(['image_name', 'tags'], axis=1))"
   ]
  },
  {
   "cell_type": "code",
   "execution_count": null,
   "id": "7c611138",
   "metadata": {},
   "outputs": [],
   "source": [
    "x_train, x_test, y_train, y_test = train_test_split(x, y, random_state=20, test_size=0.2)"
   ]
  },
  {
   "cell_type": "code",
   "execution_count": null,
   "id": "7b484cd7",
   "metadata": {},
   "outputs": [],
   "source": [
    "def fbeta(ytrue, ypred, beta = 2, epsilon = 1e-4):\n",
    "    beta_sqd = beta**2\n",
    "    ytrue = tf.cast(ytrue, tf.float32)\n",
    "    ypred = tf.cast(tf.greater(tf.cast(ypred, tf.float32), tf.constant(0.5)), tf.float32)\n",
    "    \n",
    "    TP = tf.reduce_sum(ytrue * ypred, axis = 1)\n",
    "    FP = tf.reduce_sum(ypred, axis = 1) - TP\n",
    "    FN = tf.reduce_sum(ytrue, axis = 1) - TP\n",
    "    \n",
    "    precision = TP / (TP + FP + epsilon)\n",
    "    recall = TP / (TP + FN + epsilon)\n",
    "    \n",
    "    Fbeta = (1 + beta_sqd) * precision * recall / (beta_sqd * precision + recall + epsilon)\n",
    "    return Fbeta"
   ]
  },
  {
   "cell_type": "code",
   "execution_count": null,
   "id": "f0e1afe1",
   "metadata": {},
   "outputs": [],
   "source": [
    "def multi_label_acc(ytrue, ypred, epsilon = 1e-4):\n",
    "    ytrue = tf.cast(ytrue, tf.float32)\n",
    "    ypred = tf.cast(tf.greater(tf.cast(ypred, tf.float32), tf.constant(0.5)), tf.float32)\n",
    "    \n",
    "    true_pos = tf.reduce_sum(ytrue * ypred, axis = 1)\n",
    "    false_pos = tf.reduce_sum(ypred, axis = 1) - true_pos\n",
    "    false_neg = tf.reduce_sum(ytrue, axis = 1) - true_pos\n",
    "    \n",
    "    ytrue = tf.cast(ytrue, tf.bool)\n",
    "    ypred = tf.cast(ypred, tf.bool)\n",
    "    \n",
    "    true_neg = tf.reduce_sum(tf.cast(tf.logical_not(ytrue), tf.float32) * tf.cast(tf.logical_not(ypred), tf.float32), \\axis = 1)\n",
    "    \n",
    "    mla = (true_pos + true_neg) / (true_pos + true_neg + false_pos + false_neg + epsilon)\n",
    "    return mla"
   ]
  },
  {
   "cell_type": "code",
   "execution_count": null,
   "id": "9502570b",
   "metadata": {},
   "outputs": [],
   "source": []
  },
  {
   "cell_type": "code",
   "execution_count": null,
   "id": "2c51b7e1",
   "metadata": {},
   "outputs": [],
   "source": [
    "def build_model():\n",
    "    model = Sequential()\n",
    "    model.add(Conv2D(filters=16, kernel_size=(5,5), activation='relu', input_shape=(200,200,3)))\n",
    "    model.add(MaxPooling2D(pool_size=(2, 2)))\n",
    "    model.add(BatchNormalization())\n",
    "    model.add(Dropout(0.2))\n",
    "    \n",
    "    model.add(Conv2D(filters=64, kernel_size=(5,5), activation='relu'))\n",
    "    model.add(MaxPooling2D(pool_size=(2, 2)))\n",
    "    model.add(BatchNormalization())\n",
    "    model.add(Dropout(0.2))\n",
    "    \n",
    "    model.add(Conv2D(filters=64, kernel_size=(5,5), activation='relu'))\n",
    "    model.add(MaxPooling2D(pool_size=(2, 2)))\n",
    "    model.add(BatchNormalization())\n",
    "    model.add(Dropout(0.2))\n",
    "    \n",
    "    model.add(Flatten())\n",
    "    model.add(Dense(128, activation='relu'))\n",
    "    model.add(Dropout(0.5))\n",
    "    model.add(Dense(64, activation='relu'))\n",
    "    model.add(Dropout(0.5))\n",
    "    model.add(Dense(17, activation='sigmoid'))\n",
    "    \n",
    "    model.compile(optimizer='adam', loss='binary_crossentropy', metrics = [multi_label_acc, fbeta])\n",
    "    \n",
    "    return model"
   ]
  },
  {
   "cell_type": "code",
   "execution_count": null,
   "id": "1154d933",
   "metadata": {},
   "outputs": [],
   "source": [
    "model = build_model()\n",
    "\n",
    "model.summary()"
   ]
  },
  {
   "cell_type": "code",
   "execution_count": null,
   "id": "c49f3a00",
   "metadata": {},
   "outputs": [],
   "source": [
    "history = model.fit(x_train, y_train, epochs=15, validation_data=(x_test, y_test), batch_size=50)"
   ]
  },
  {
   "cell_type": "code",
   "execution_count": null,
   "id": "89c94e36",
   "metadata": {},
   "outputs": [],
   "source": [
    "test_loss, mla, fbeta = model.evaluate(x_test, y_test)\n",
    "\n",
    "print(f'Test loss: {test_loss}')\n",
    "print(f'Fbeta score: {fbeta}')\n",
    "print(f'Multilabel accuracy: {mla}')"
   ]
  },
  {
   "cell_type": "code",
   "execution_count": null,
   "id": "f0c5677a",
   "metadata": {},
   "outputs": [],
   "source": []
  }
 ],
 "metadata": {
  "kernelspec": {
   "display_name": "Python 3 (ipykernel)",
   "language": "python",
   "name": "python3"
  },
  "language_info": {
   "codemirror_mode": {
    "name": "ipython",
    "version": 3
   },
   "file_extension": ".py",
   "mimetype": "text/x-python",
   "name": "python",
   "nbconvert_exporter": "python",
   "pygments_lexer": "ipython3",
   "version": "3.9.12"
  }
 },
 "nbformat": 4,
 "nbformat_minor": 5
}
